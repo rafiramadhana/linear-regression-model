{
 "cells": [
  {
   "cell_type": "markdown",
   "id": "67aabb85-590a-49d1-9051-5c11f67999a9",
   "metadata": {},
   "source": [
    "# Multiple Linear Regression\n",
    "\n",
    "Multiple linear regression on space with more than 3 dimensions."
   ]
  },
  {
   "cell_type": "code",
   "execution_count": 1,
   "id": "bb7ff351-adf5-43fb-9a18-e0563a713ad7",
   "metadata": {},
   "outputs": [],
   "source": [
    "# Dependencies\n",
    "\n",
    "import matplotlib.pyplot as plt\n",
    "import numpy as np\n",
    "import pandas as pd\n",
    "from sklearn.datasets import fetch_california_housing\n",
    "from sklearn.feature_selection import RFE\n",
    "from sklearn.linear_model import LinearRegression\n",
    "from sklearn.metrics import mean_squared_error, r2_score\n",
    "from sklearn.model_selection import train_test_split\n",
    "import statsmodels.api as sm"
   ]
  },
  {
   "cell_type": "markdown",
   "id": "c4efd012-c11b-4ea9-93bc-9abd08c8a04d",
   "metadata": {},
   "source": [
    "## Data Sourcing"
   ]
  },
  {
   "cell_type": "code",
   "execution_count": 2,
   "id": "0cfe582a-0fc7-4aaf-b632-435a05d86b53",
   "metadata": {},
   "outputs": [
    {
     "name": "stdout",
     "output_type": "stream",
     "text": [
      "       MedInc  HouseAge  AveRooms  AveBedrms  Population  AveOccup  Latitude  \\\n",
      "10346  6.0471      17.0  6.535849   0.979245      1713.0  3.232075     33.61   \n",
      "1098   2.3833      24.0  5.643382   1.025735       726.0  2.669118     39.59   \n",
      "2912   3.3261      16.0  4.699687   1.093848      2261.0  2.357664     35.36   \n",
      "5576   4.7222      36.0  5.712000   1.072000       825.0  3.300000     33.84   \n",
      "18435  5.5849      15.0  5.885662   1.000000      1752.0  3.179673     37.26   \n",
      "\n",
      "       Longitude  MedHouseVal  \n",
      "10346    -117.66        2.484  \n",
      "1098     -121.74        0.951  \n",
      "2912     -119.05        1.184  \n",
      "5576     -118.30        2.396  \n",
      "18435    -121.83        2.574  \n"
     ]
    }
   ],
   "source": [
    "X, y = fetch_california_housing(return_X_y=True, as_frame=True)\n",
    "\n",
    "# For simplicity, we will do linear regression with less data\n",
    "# X = X[[\"MedInc\", \"HouseAge\", \"AveRooms\"]]\n",
    "\n",
    "X_train, X_test, y_train, y_test = train_test_split(X, y, test_size=40, shuffle=True)\n",
    "\n",
    "print(pd.concat([X_train, y_train], axis=1).head())"
   ]
  },
  {
   "cell_type": "markdown",
   "id": "dabaaeab-8201-4792-9adc-c9a5247d2dc7",
   "metadata": {},
   "source": [
    "## Linear Regression And Linear Algebra"
   ]
  },
  {
   "cell_type": "code",
   "execution_count": 3,
   "id": "4cd12999-ce1c-4521-9cb5-e5f81c6d5cba",
   "metadata": {},
   "outputs": [
    {
     "name": "stdout",
     "output_type": "stream",
     "text": [
      "B: [-3.68810647e+01  4.36740621e-01  9.44020128e-03 -1.07322656e-01\n",
      "  6.44881442e-01 -4.18695740e-06 -3.78496421e-03 -4.20705910e-01\n",
      " -4.33825568e-01]\n"
     ]
    }
   ],
   "source": [
    "# Transpose of X\n",
    "X_np = X_train.to_numpy()\n",
    "X_np = np.hstack([np.ones((len(X_np), 1)), X_np])\n",
    "XT_np = np.matrix.transpose(X_np)\n",
    "\n",
    "# Multiplication of XT and X\n",
    "XT_X_np = np.linalg.matmul(XT_np, X_np)\n",
    "\n",
    "# Inverse of multiplication of XT and X\n",
    "XT_X_inv_np = np.linalg.inv(XT_X_np)\n",
    "\n",
    "# Multiplication of XT and y\n",
    "y_np = y_train.to_numpy()\n",
    "XT_y_np = np.matmul(XT_np, y_np)\n",
    "\n",
    "# B\n",
    "B_np = np.matmul(XT_X_inv_np, XT_y_np)\n",
    "\n",
    "# print(f\"XT: {XT_np}\")\n",
    "# print(f\"XT_X: {XT_X_np}\")\n",
    "# print(f\"XT_X_inv: {XT_X_inv_np}\")\n",
    "# print(f\"XT: {XT_np}\")\n",
    "print(f\"B: {B_np}\")"
   ]
  },
  {
   "cell_type": "markdown",
   "id": "fca6d583-d9cd-4bae-8a81-70493fbcf265",
   "metadata": {},
   "source": [
    "## $TSS$, $RSS$, $MSE$, and $R^2$"
   ]
  },
  {
   "cell_type": "code",
   "execution_count": 4,
   "id": "cf3845bf-33e9-4fe8-9458-5d7836749542",
   "metadata": {
    "scrolled": true
   },
   "outputs": [
    {
     "name": "stdout",
     "output_type": "stream",
     "text": [
      "932      2.823049\n",
      "14733    2.505164\n",
      "16966    2.567401\n",
      "9138     2.773571\n",
      "16760    2.659205\n",
      "11646    2.655326\n",
      "9631     1.378955\n",
      "1514     1.818290\n",
      "7118     2.088042\n",
      "5321     3.599308\n",
      "17295    4.495395\n",
      "2076     0.807418\n",
      "2356     1.735609\n",
      "15334    1.544897\n",
      "4344     1.593150\n",
      "731      2.549434\n",
      "16013    3.362265\n",
      "1463     2.356671\n",
      "5813     1.679633\n",
      "13892    1.535738\n",
      "18497    2.030095\n",
      "1947     1.156172\n",
      "17016    2.611760\n",
      "19584    2.430102\n",
      "15206    2.028408\n",
      "14083    2.487888\n",
      "9619     2.173163\n",
      "2300     1.441234\n",
      "2933     0.868929\n",
      "15463    1.925126\n",
      "16913    6.173496\n",
      "2124     1.553883\n",
      "8010     2.665700\n",
      "8800     4.573179\n",
      "635      2.193071\n",
      "1822     3.200510\n",
      "2458     1.498494\n",
      "5964     3.208933\n",
      "2209     1.431840\n",
      "13841    1.020210\n",
      "dtype: float64\n"
     ]
    }
   ],
   "source": [
    "def predict(X):\n",
    "    featureCount = len(X) + 1\n",
    "    pred_y = 0\n",
    "\n",
    "    for i in range(featureCount):\n",
    "        if i == 0:\n",
    "            pred_y += B_np[i]\n",
    "        else:\n",
    "            pred_y += B_np[i]*X.iloc[i-1]\n",
    "\n",
    "    return pred_y\n",
    "\n",
    "y_pred = X_test.apply(predict, axis=1)\n",
    "print(y_pred)"
   ]
  },
  {
   "cell_type": "code",
   "execution_count": 5,
   "id": "64c8c67b-21cd-4c0a-92d7-89527eba1cfa",
   "metadata": {},
   "outputs": [
    {
     "name": "stdout",
     "output_type": "stream",
     "text": [
      "TSS: 69.99669182135997\n",
      "RSS: 16.801662609656997\n",
      "R^2: 0.7599649044481006\n",
      "R^2 (sklearn.metrics): 0.7599649044481006\n",
      "MSE: 0.42004156524142494\n",
      "MSE (sklearn.metrics): 0.42004156524142494\n"
     ]
    }
   ],
   "source": [
    "# TSS\n",
    "tss = 0\n",
    "for v in y_test:\n",
    "    tss = tss + (v - y_test.mean())**2\n",
    "\n",
    "# RSS\n",
    "rss = 0\n",
    "for (_, v_test), (_, v_pred) in zip(y_test.items(), y_pred.items()):\n",
    "    rss = rss + (v_test - v_pred)**2\n",
    "\n",
    "# R^2\n",
    "r_squared = 1 - (rss/tss)\n",
    "\n",
    "# MSE\n",
    "mse = rss / len(y_test)\n",
    "\n",
    "print(f\"TSS: {tss}\")\n",
    "print(f\"RSS: {rss}\")\n",
    "print(f\"R^2: {r_squared}\")\n",
    "print(f\"R^2 (sklearn.metrics): {r2_score(y_test, y_pred)}\")\n",
    "print(f\"MSE: {mse}\")\n",
    "print(f\"MSE (sklearn.metrics): {mean_squared_error(y_test, y_pred)}\")"
   ]
  },
  {
   "cell_type": "markdown",
   "id": "c01d8905-9335-4f44-a93f-1c4159af7f43",
   "metadata": {},
   "source": [
    "## Comparing with scikit-learn's LinearRegression()"
   ]
  },
  {
   "cell_type": "code",
   "execution_count": 6,
   "id": "436ed035-d521-4473-948a-0b7378470ed8",
   "metadata": {
    "scrolled": true
   },
   "outputs": [
    {
     "name": "stdout",
     "output_type": "stream",
     "text": [
      "Features count: 8\n",
      "B: (np.float64(-36.881064678873436), array([ 4.36740621e-01,  9.44020128e-03, -1.07322656e-01,  6.44881442e-01,\n",
      "       -4.18695740e-06, -3.78496421e-03, -4.20705910e-01, -4.33825569e-01]))\n",
      "R^2 (sklearn.linear_model.LinearRegression): 0.7599649044489143\n",
      "MSE (sklearn.linear_model.LinearRegression): 0.420041565240001\n"
     ]
    }
   ],
   "source": [
    "regressor = LinearRegression(fit_intercept=True).fit(X_train, y_train)\n",
    "y_pred_sklearn = regressor.predict(X_test)\n",
    "\n",
    "print(f\"Features count: {regressor.n_features_in_}\")\n",
    "print(f\"B: {regressor.intercept_, regressor.coef_}\")\n",
    "print(f\"R^2 (sklearn.linear_model.LinearRegression): {r2_score(y_test, y_pred_sklearn)}\")\n",
    "print(f\"MSE (sklearn.linear_model.LinearRegression): {mean_squared_error(y_test, y_pred_sklearn)}\")"
   ]
  },
  {
   "cell_type": "markdown",
   "id": "e172a7bc-15db-43a0-affe-ca8f3ddd693f",
   "metadata": {},
   "source": [
    "## Optimizing By Omitting Less Impactful Features"
   ]
  },
  {
   "cell_type": "markdown",
   "id": "7e1eab29-4792-4796-bc6b-c5b9ba394c45",
   "metadata": {},
   "source": [
    "### Optimize using p-value (statsmodel.api)"
   ]
  },
  {
   "cell_type": "code",
   "execution_count": 7,
   "id": "8462779d-77d6-4b5a-9e89-3fd20fe3d898",
   "metadata": {
    "scrolled": true
   },
   "outputs": [
    {
     "name": "stdout",
     "output_type": "stream",
     "text": [
      "                            OLS Regression Results                            \n",
      "==============================================================================\n",
      "Dep. Variable:            MedHouseVal   R-squared:                       0.606\n",
      "Model:                            OLS   Adj. R-squared:                  0.606\n",
      "Method:                 Least Squares   F-statistic:                     3956.\n",
      "Date:                Mon, 30 Dec 2024   Prob (F-statistic):               0.00\n",
      "Time:                        23:08:44   Log-Likelihood:                -22584.\n",
      "No. Observations:               20600   AIC:                         4.519e+04\n",
      "Df Residuals:                   20591   BIC:                         4.526e+04\n",
      "Df Model:                           8                                         \n",
      "Covariance Type:            nonrobust                                         \n",
      "==============================================================================\n",
      "                 coef    std err          t      P>|t|      [0.025      0.975]\n",
      "------------------------------------------------------------------------------\n",
      "const        -36.8811      0.660    -55.909      0.000     -38.174     -35.588\n",
      "MedInc         0.4367      0.004    103.935      0.000       0.429       0.445\n",
      "HouseAge       0.0094      0.000     21.131      0.000       0.009       0.010\n",
      "AveRooms      -0.1073      0.006    -18.221      0.000      -0.119      -0.096\n",
      "AveBedrms      0.6449      0.028     22.903      0.000       0.590       0.700\n",
      "Population -4.187e-06   4.76e-06     -0.880      0.379   -1.35e-05    5.14e-06\n",
      "AveOccup      -0.0038      0.000     -7.764      0.000      -0.005      -0.003\n",
      "Latitude      -0.4207      0.007    -58.399      0.000      -0.435      -0.407\n",
      "Longitude     -0.4338      0.008    -57.526      0.000      -0.449      -0.419\n",
      "==============================================================================\n",
      "Omnibus:                     4389.842   Durbin-Watson:                   2.003\n",
      "Prob(Omnibus):                  0.000   Jarque-Bera (JB):            14087.032\n",
      "Skew:                           1.083   Prob(JB):                         0.00\n",
      "Kurtosis:                       6.424   Cond. No.                     2.38e+05\n",
      "==============================================================================\n",
      "\n",
      "Notes:\n",
      "[1] Standard Errors assume that the covariance matrix of the errors is correctly specified.\n",
      "[2] The condition number is large, 2.38e+05. This might indicate that there are\n",
      "strong multicollinearity or other numerical problems.\n"
     ]
    }
   ],
   "source": [
    "X_train_with_const = sm.add_constant(X_train)\n",
    "ols_model = sm.OLS(y_train, X_train_with_const).fit()\n",
    "print(ols_model.summary())"
   ]
  },
  {
   "cell_type": "markdown",
   "id": "fd5d0483-4b00-4995-b56a-33f10510fe80",
   "metadata": {},
   "source": [
    "### Optimize using RFE (skelarn.feature_selection)"
   ]
  },
  {
   "cell_type": "code",
   "execution_count": 16,
   "id": "0f795ca2-2aab-4848-918c-f641764cd7ee",
   "metadata": {},
   "outputs": [
    {
     "name": "stdout",
     "output_type": "stream",
     "text": [
      "      Feature  Ranking  Selected\n",
      "0      MedInc        1      True\n",
      "1    HouseAge        4     False\n",
      "2    AveRooms        3     False\n",
      "3   AveBedrms        2     False\n",
      "4  Population        6     False\n",
      "5    AveOccup        5     False\n",
      "6    Latitude        1      True\n",
      "7   Longitude        1      True\n",
      "R^2 (sklearn.feature_selection.RFE): 0.7534539421856962\n",
      "MSE (sklearn.feature_selection.RFE): 0.4314352107149757\n"
     ]
    }
   ],
   "source": [
    "rfe = RFE(estimator=regressor, n_features_to_select=3)\n",
    "rfe.fit(X_train, y_train)\n",
    "\n",
    "# Rank features\n",
    "featureRanking = pd.DataFrame({\n",
    "    'Feature': X.columns,\n",
    "    'Ranking': rfe.ranking_,\n",
    "    'Selected': rfe.get_support(),\n",
    "})\n",
    "print(featureRanking)\n",
    "\n",
    "# Compare RFE with model without RFE\n",
    "y_pred_rfe = rfe.predict(X_test)\n",
    "print(f\"R^2 (sklearn.feature_selection.RFE): {r2_score(y_test, y_pred_rfe)}\")\n",
    "print(f\"MSE (sklearn.feature_selection.RFE): {mean_squared_error(y_test, y_pred_rfe)}\")"
   ]
  }
 ],
 "metadata": {
  "kernelspec": {
   "display_name": "Python 3 (ipykernel)",
   "language": "python",
   "name": "python3"
  },
  "language_info": {
   "codemirror_mode": {
    "name": "ipython",
    "version": 3
   },
   "file_extension": ".py",
   "mimetype": "text/x-python",
   "name": "python",
   "nbconvert_exporter": "python",
   "pygments_lexer": "ipython3",
   "version": "3.12.7"
  }
 },
 "nbformat": 4,
 "nbformat_minor": 5
}
