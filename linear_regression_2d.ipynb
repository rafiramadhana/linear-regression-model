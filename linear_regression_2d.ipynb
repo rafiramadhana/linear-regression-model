{
 "cells": [
  {
   "cell_type": "markdown",
   "id": "5e8e199a-55a9-4f4a-a37d-404218afbd1e",
   "metadata": {},
   "source": [
    "# Simple Linear Regression"
   ]
  },
  {
   "cell_type": "markdown",
   "id": "6eea4775-f4ad-43b4-b000-c8929428f666",
   "metadata": {},
   "source": [
    "## Main Idea\n",
    "\n",
    "The main idea of linear regression is:\n",
    "- Use least-squares to fit a line to the data\n",
    "- Calculate R^2"
   ]
  },
  {
   "cell_type": "code",
   "execution_count": 1,
   "id": "c76fa42f-0785-4a43-a42b-8545cebbff62",
   "metadata": {},
   "outputs": [],
   "source": [
    "# Dependencies\n",
    "\n",
    "import matplotlib.pyplot as plt\n",
    "import numpy as np\n",
    "import pandas as pd\n",
    "from sklearn.datasets import fetch_california_housing\n",
    "from sklearn.linear_model import LinearRegression\n",
    "from sklearn.metrics import mean_squared_error, r2_score\n",
    "from sklearn.model_selection import train_test_split"
   ]
  },
  {
   "cell_type": "markdown",
   "id": "feea86a2-30ea-4f02-91e0-e4bdf01e8511",
   "metadata": {},
   "source": [
    "## Data Sourcing"
   ]
  },
  {
   "cell_type": "code",
   "execution_count": 2,
   "id": "076dd9c1-a1d2-49c1-944c-355bce0b9a7d",
   "metadata": {},
   "outputs": [
    {
     "name": "stdout",
     "output_type": "stream",
     "text": [
      "   MedInc  MedHouseVal\n",
      "0  8.3252        4.526\n",
      "1  8.3014        3.585\n",
      "2  7.2574        3.521\n",
      "3  5.6431        3.413\n",
      "4  3.8462        3.422\n"
     ]
    }
   ],
   "source": [
    "X, y = fetch_california_housing(return_X_y=True, as_frame=True)\n",
    "\n",
    "# For simplicity, we will do linear regression with less data\n",
    "X = X[[\"MedInc\"]]\n",
    "\n",
    "X_train, X_test, y_train, y_test = train_test_split(X, y, test_size=20, shuffle=True)\n",
    "\n",
    "print(pd.concat([X_train, y_train], axis=1).head())"
   ]
  },
  {
   "cell_type": "markdown",
   "id": "d3e679b7-1788-4ea9-9553-5c4e2e82cb32",
   "metadata": {},
   "source": [
    "## Linear Regression And Linear Algebra\n",
    "\n",
    "The equation between feature and its target can be written as\n",
    "\n",
    "$\\mathbf{y} = \\mathbf{X} \\boldsymbol{\\beta} + \\mathbf{\\epsilon}$\n",
    "\n",
    "Where:\n",
    "- $\\mathbf{y}$ is the vector of observed values of the dependent variable $y$\n",
    "- $\\mathbf{X}$ is the feature matrix, which includes the feature values\n",
    "- $\\boldsymbol{\\beta}$ is the vector of coefficients, which includes $\\beta_0$ and $\\beta_1$\n",
    "- $\\mathbf{\\epsilon}$ is the vector of residuals (error)\n",
    "\n",
    "To have a more practical view, if we write each matrices and vectors, it will be\n",
    "\n",
    "$\\mathbf{y} = \\begin{bmatrix} y_1 \\\\ y_2 \\\\ \\vdots \\\\ y_n \\end{bmatrix} \n",
    "= \\begin{bmatrix} 1 & x_1 \\\\ 1 & x_2 \\\\ \\vdots & 1 & x_n \\end{bmatrix} \n",
    "\\begin{bmatrix} \\beta_0 \\\\ \\beta_1 \\end{bmatrix}\n",
    "+ \\begin{bmatrix} \\epsilon_1 \\\\ \\epsilon_2 \\\\ \\vdots \\\\ \\epsilon_n \\end{bmatrix}$\n",
    "\n",
    "To calculate $\\boldsymbol{\\beta}$, we can do\n",
    "\n",
    "$\\boldsymbol{\\beta} = (\\mathbf{X}^T \\mathbf{X})^{-1} \\mathbf{X}^T \\mathbf{y}$"
   ]
  },
  {
   "cell_type": "markdown",
   "id": "5603a6d4-a21d-4e20-9523-2e6e9bc75897",
   "metadata": {},
   "source": [
    "Calculate $\\mathbf{X}^T$ (transpose of $\\mathbf{X}$)"
   ]
  },
  {
   "cell_type": "code",
   "execution_count": 3,
   "id": "b348f206-d928-4841-8573-b67ace2e59a8",
   "metadata": {
    "scrolled": true
   },
   "outputs": [
    {
     "name": "stdout",
     "output_type": "stream",
     "text": [
      "[[1.     8.3252]\n",
      " [1.     8.3014]\n",
      " [1.     7.2574]\n",
      " ...\n",
      " [1.     3.3021]\n",
      " [1.     2.25  ]\n",
      " [1.     2.7303]]\n"
     ]
    }
   ],
   "source": [
    "X_np = X_train.to_numpy()\n",
    "X_np = np.hstack([np.ones((len(X_np), 1)), X_np])\n",
    "\n",
    "print(X_np)\n",
    "\n",
    "# transpose of X\n",
    "XT_np = np.matrix.transpose(X_np)\n",
    "\n",
    "# print(XT_np)"
   ]
  },
  {
   "cell_type": "markdown",
   "id": "edaddad7-ffdf-43c3-858d-6bd61b60e135",
   "metadata": {},
   "source": [
    "Calculate $\\mathbf{X}^T \\mathbf{X}$"
   ]
  },
  {
   "cell_type": "code",
   "execution_count": 4,
   "id": "550336bc-c6da-439e-b275-53f1f2e6bb6c",
   "metadata": {},
   "outputs": [],
   "source": [
    "# multiplication of XT and X\n",
    "XT_X_np = np.linalg.matmul(XT_np, X_np)\n",
    "\n",
    "# print(XT_X_np)"
   ]
  },
  {
   "cell_type": "markdown",
   "id": "01468063-ecd7-41f1-b493-5726f5794e3d",
   "metadata": {},
   "source": [
    "Calcualte $(\\mathbf{X}^T \\mathbf{X})^{-1}$"
   ]
  },
  {
   "cell_type": "code",
   "execution_count": 5,
   "id": "916a2fca-ed3f-4ace-8641-4770a2229703",
   "metadata": {},
   "outputs": [],
   "source": [
    "# inverse of multiplication of XT and X\n",
    "XT_X_inv_np = np.linalg.inv(XT_X_np)\n",
    "\n",
    "# print(XT_X_inv_np)"
   ]
  },
  {
   "cell_type": "markdown",
   "id": "4545278e-0f31-4752-aa9c-4083d872724c",
   "metadata": {},
   "source": [
    "Calculate $\\mathbf{X}^T \\mathbf{y}$"
   ]
  },
  {
   "cell_type": "code",
   "execution_count": 6,
   "id": "6aa9f8c2-996e-401e-9ea1-1a5aa53319c2",
   "metadata": {},
   "outputs": [],
   "source": [
    "y_np = y_train.to_numpy()\n",
    "\n",
    "# multiplication of XT and y\n",
    "XT_y_np = np.matmul(XT_np, y_np)\n",
    "\n",
    "# print(XT_y_np)"
   ]
  },
  {
   "cell_type": "markdown",
   "id": "1b10df4e-99ba-4e89-8fb2-9ea13f0ebd65",
   "metadata": {},
   "source": [
    "Finally, calculate $\\boldsymbol{\\beta}$"
   ]
  },
  {
   "cell_type": "code",
   "execution_count": 7,
   "id": "6330498a-8f4c-4903-80ce-b8b23a848781",
   "metadata": {},
   "outputs": [
    {
     "name": "stdout",
     "output_type": "stream",
     "text": [
      "[0.45203504 0.4178011 ]\n"
     ]
    }
   ],
   "source": [
    "B_np = np.matmul(XT_X_inv_np, XT_y_np)\n",
    "\n",
    "print(B_np)"
   ]
  },
  {
   "cell_type": "markdown",
   "id": "037d70fd-6729-4e5a-821c-a15b2b0d4fa0",
   "metadata": {},
   "source": [
    "## $TSS$, $RSS$, $MSE$, and $R^2$"
   ]
  },
  {
   "cell_type": "markdown",
   "id": "cbda64f0-451e-4f05-bee3-3aedb6739d86",
   "metadata": {},
   "source": [
    "First, we need to calculate the predicted $y$\n",
    "\n",
    "$y = \\beta_0 + \\beta_1x$"
   ]
  },
  {
   "cell_type": "code",
   "execution_count": 8,
   "id": "acc74c85-1a5c-4cfb-84da-8389d946aac4",
   "metadata": {},
   "outputs": [],
   "source": [
    "def predict(X):\n",
    "    return B_np[0] + (B_np[1]*X)\n",
    "\n",
    "y_pred = X_test.apply(predict)\n",
    "\n",
    "# convert to pd.Series\n",
    "y_pred = y_pred.iloc[:, 0]"
   ]
  },
  {
   "cell_type": "code",
   "execution_count": 9,
   "id": "8d678456-d23c-4d33-aedf-1864395fd8cf",
   "metadata": {},
   "outputs": [
    {
     "data": {
      "image/png": "[encoded data removed]",
      "text/plain": [
       "<Figure size 640x480 with 1 Axes>"
      ]
     },
     "metadata": {},
     "output_type": "display_data"
    }
   ],
   "source": [
    "fig, (ax) = plt.subplots()\n",
    "\n",
    "ax.scatter(X_test, y_test, label=\"Data points\")\n",
    "ax.plot(X_test, pd.Series([y_test.mean()] * len(y_test)), label=\"y average\", color=\"tab:orange\")\n",
    "ax.plot(X_test, y_pred, label=\"y pred\", color=\"tab:green\")\n",
    "ax.set(xlabel=\"X\", ylabel=\"y\")\n",
    "ax.legend()\n",
    "\n",
    "plt.show()"
   ]
  },
  {
   "cell_type": "markdown",
   "id": "e95ee615-0bf4-4a83-82a1-02d080389848",
   "metadata": {},
   "source": [
    "To calculate $R^2$, we must calculate total sum of squares ($TSS$) and residual sum of squares ($RSS$)\n",
    "\n",
    "$TSS = \\sum_{i=1}^{n} (y_i - \\bar{y})^2$\n",
    "\n",
    "$RSS = \\sum_{i=1}^{n} (y_i - \\hat{y}_i)^2$\n",
    "\n",
    "$R^2 = 1 - \\frac{RSS}{TSS}$\n",
    "\n",
    "In addition, we will also calculate $MSE$ for the sake of benchmarking with scikit-learn\n",
    "\n",
    "$MSE = \\frac{RSS}{n}$"
   ]
  },
  {
   "cell_type": "markdown",
   "id": "1f9c5777-918a-4405-8aa5-1e1d78101050",
   "metadata": {},
   "source": [
    "Calculate $TSS$"
   ]
  },
  {
   "cell_type": "code",
   "execution_count": 10,
   "id": "47f1ac48-46af-4844-9385-6de2460ac5e6",
   "metadata": {},
   "outputs": [
    {
     "name": "stdout",
     "output_type": "stream",
     "text": [
      "0.94155055\n"
     ]
    }
   ],
   "source": [
    "tss = 0\n",
    "\n",
    "for v in y_test:\n",
    "    tss = tss + (v - y_test.mean())**2\n",
    "\n",
    "print(tss)"
   ]
  },
  {
   "cell_type": "markdown",
   "id": "a7b98d7a-85bc-45cc-997d-8f33eb1d5ff0",
   "metadata": {},
   "source": [
    "Calculate $RSS$"
   ]
  },
  {
   "cell_type": "code",
   "execution_count": 11,
   "id": "cef6c563-c1a7-404e-bd1d-29fd492228e2",
   "metadata": {},
   "outputs": [
    {
     "name": "stdout",
     "output_type": "stream",
     "text": [
      "11.274677735165556\n"
     ]
    }
   ],
   "source": [
    "rss = 0\n",
    "\n",
    "for (_, v_test), (_, v_pred) in zip(y_test.items(), y_pred.items()):\n",
    "    rss = rss + (v_test - v_pred)**2\n",
    "\n",
    "print(rss)"
   ]
  },
  {
   "cell_type": "markdown",
   "id": "4509dd28-614d-412f-86fd-c8051f5e28ec",
   "metadata": {
    "scrolled": true
   },
   "source": [
    "Calculate $R^2$"
   ]
  },
  {
   "cell_type": "code",
   "execution_count": 12,
   "id": "7c42bb97-9d36-4ba2-8670-ff7b21e6e87e",
   "metadata": {},
   "outputs": [
    {
     "name": "stdout",
     "output_type": "stream",
     "text": [
      "R^2: -10.974585682272243\n",
      "R^2 (sklearn.metrics): -10.974585682272243\n"
     ]
    }
   ],
   "source": [
    "r_squared = 1 - (rss/tss)\n",
    "\n",
    "print(f\"R^2: {r_squared}\")\n",
    "print(f\"R^2 (sklearn.metrics): {r2_score(y_test, y_pred)}\")"
   ]
  },
  {
   "cell_type": "markdown",
   "id": "993906e9-df7a-424e-b5e6-53d3f350c056",
   "metadata": {},
   "source": [
    "Calculate $MSE$"
   ]
  },
  {
   "cell_type": "code",
   "execution_count": 13,
   "id": "8ff8028e-0dc3-4030-bce9-3960281bd1e2",
   "metadata": {},
   "outputs": [
    {
     "name": "stdout",
     "output_type": "stream",
     "text": [
      "20620    1.000\n",
      "20621    0.775\n",
      "20622    0.670\n",
      "20623    0.655\n",
      "20624    0.872\n",
      "20625    0.720\n",
      "20626    0.938\n",
      "20627    1.625\n",
      "20628    0.924\n",
      "20629    1.083\n",
      "20630    1.120\n",
      "20631    1.072\n",
      "20632    1.156\n",
      "20633    0.983\n",
      "20634    1.168\n",
      "20635    0.781\n",
      "20636    0.771\n",
      "20637    0.923\n",
      "20638    0.847\n",
      "20639    0.894\n",
      "Name: MedHouseVal, dtype: float64\n",
      "20620    2.358253\n",
      "20621    1.440594\n",
      "20622    1.461735\n",
      "20623    1.631696\n",
      "20624    1.736314\n",
      "20625    2.175465\n",
      "20626    1.357285\n",
      "20627    1.705438\n",
      "20628    1.536312\n",
      "20629    1.327036\n",
      "20630    1.942457\n",
      "20631    1.921818\n",
      "20632    1.757663\n",
      "20633    1.517219\n",
      "20634    2.003122\n",
      "20635    1.103930\n",
      "20636    1.520269\n",
      "20637    1.162297\n",
      "20638    1.232153\n",
      "20639    1.449995\n",
      "Name: MedInc, dtype: float64\n",
      "MSE: 0.5637338867582777\n",
      "MSE (sklearn.metrics): 0.5637338867582777\n"
     ]
    }
   ],
   "source": [
    "mse = rss / len(y_test)\n",
    "\n",
    "print(f\"MSE: {mse}\")\n",
    "print(f\"MSE (sklearn.metrics): {mean_squared_error(y_test, y_pred)}\")"
   ]
  },
  {
   "cell_type": "markdown",
   "id": "4b590135-f6f0-411c-af64-28805ac2089f",
   "metadata": {},
   "source": [
    "## Comparing With scikit-learn's LinearRegression()"
   ]
  },
  {
   "cell_type": "code",
   "execution_count": 14,
   "id": "99bf826f-be45-4b68-a7a2-46bb70610c0e",
   "metadata": {},
   "outputs": [
    {
     "name": "stdout",
     "output_type": "stream",
     "text": [
      "R^2 (sklearn.linear_model.LinearRegression): -10.974585682272476\n",
      "MSE (sklearn.linear_model.LinearRegression): 0.5637338867582887\n"
     ]
    }
   ],
   "source": [
    "regressor = LinearRegression().fit(X_train, y_train)\n",
    "\n",
    "y_pred_sklearn = regressor.predict(X_test)\n",
    "\n",
    "print(f\"R^2 (sklearn.linear_model.LinearRegression): {r2_score(y_test, y_pred_sklearn)}\")\n",
    "print(f\"MSE (sklearn.linear_model.LinearRegression): {mean_squared_error(y_test, y_pred_sklearn)}\")"
   ]
  }
 ],
 "metadata": {
  "kernelspec": {
   "display_name": "Python 3 (ipykernel)",
   "language": "python",
   "name": "python3"
  },
  "language_info": {
   "codemirror_mode": {
    "name": "ipython",
    "version": 3
   },
   "file_extension": ".py",
   "mimetype": "text/x-python",
   "name": "python",
   "nbconvert_exporter": "python",
   "pygments_lexer": "ipython3",
   "version": "3.12.7"
  }
 },
 "nbformat": 4,
 "nbformat_minor": 5
}
